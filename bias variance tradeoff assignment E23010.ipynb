{
 "cells": [
  {
   "cell_type": "code",
   "execution_count": 140,
   "id": "ad66c176",
   "metadata": {},
   "outputs": [],
   "source": [
    "import warnings\n",
    "warnings.filterwarnings(\"ignore\")\n",
    "import matplotlib.pyplot as plt\n",
    "import pandas as pd\n",
    "import numpy as np\n",
    "from sklearn.tree import DecisionTreeRegressor\n",
    "from sklearn.linear_model import LinearRegression, Lasso, Ridge\n",
    "from sklearn.ensemble import RandomForestRegressor\n",
    "from sklearn.model_selection import train_test_split"
   ]
  },
  {
   "cell_type": "code",
   "execution_count": 141,
   "id": "6b5163e0",
   "metadata": {},
   "outputs": [
    {
     "data": {
      "text/html": [
       "<div>\n",
       "<style scoped>\n",
       "    .dataframe tbody tr th:only-of-type {\n",
       "        vertical-align: middle;\n",
       "    }\n",
       "\n",
       "    .dataframe tbody tr th {\n",
       "        vertical-align: top;\n",
       "    }\n",
       "\n",
       "    .dataframe thead th {\n",
       "        text-align: right;\n",
       "    }\n",
       "</style>\n",
       "<table border=\"1\" class=\"dataframe\">\n",
       "  <thead>\n",
       "    <tr style=\"text-align: right;\">\n",
       "      <th></th>\n",
       "      <th>RMSD</th>\n",
       "      <th>F1</th>\n",
       "      <th>F2</th>\n",
       "      <th>F3</th>\n",
       "      <th>F4</th>\n",
       "      <th>F5</th>\n",
       "      <th>F6</th>\n",
       "      <th>F7</th>\n",
       "      <th>F8</th>\n",
       "      <th>F9</th>\n",
       "    </tr>\n",
       "  </thead>\n",
       "  <tbody>\n",
       "    <tr>\n",
       "      <th>0</th>\n",
       "      <td>17.284</td>\n",
       "      <td>13558.30</td>\n",
       "      <td>4305.35</td>\n",
       "      <td>0.31754</td>\n",
       "      <td>162.1730</td>\n",
       "      <td>1.872791e+06</td>\n",
       "      <td>215.3590</td>\n",
       "      <td>4287.87</td>\n",
       "      <td>102</td>\n",
       "      <td>27.0302</td>\n",
       "    </tr>\n",
       "    <tr>\n",
       "      <th>1</th>\n",
       "      <td>6.021</td>\n",
       "      <td>6191.96</td>\n",
       "      <td>1623.16</td>\n",
       "      <td>0.26213</td>\n",
       "      <td>53.3894</td>\n",
       "      <td>8.034467e+05</td>\n",
       "      <td>87.2024</td>\n",
       "      <td>3328.91</td>\n",
       "      <td>39</td>\n",
       "      <td>38.5468</td>\n",
       "    </tr>\n",
       "    <tr>\n",
       "      <th>2</th>\n",
       "      <td>9.275</td>\n",
       "      <td>7725.98</td>\n",
       "      <td>1726.28</td>\n",
       "      <td>0.22343</td>\n",
       "      <td>67.2887</td>\n",
       "      <td>1.075648e+06</td>\n",
       "      <td>81.7913</td>\n",
       "      <td>2981.04</td>\n",
       "      <td>29</td>\n",
       "      <td>38.8119</td>\n",
       "    </tr>\n",
       "    <tr>\n",
       "      <th>3</th>\n",
       "      <td>15.851</td>\n",
       "      <td>8424.58</td>\n",
       "      <td>2368.25</td>\n",
       "      <td>0.28111</td>\n",
       "      <td>67.8325</td>\n",
       "      <td>1.210472e+06</td>\n",
       "      <td>109.4390</td>\n",
       "      <td>3248.22</td>\n",
       "      <td>70</td>\n",
       "      <td>39.0651</td>\n",
       "    </tr>\n",
       "    <tr>\n",
       "      <th>4</th>\n",
       "      <td>7.962</td>\n",
       "      <td>7460.84</td>\n",
       "      <td>1736.94</td>\n",
       "      <td>0.23280</td>\n",
       "      <td>52.4123</td>\n",
       "      <td>1.021020e+06</td>\n",
       "      <td>94.5234</td>\n",
       "      <td>2814.42</td>\n",
       "      <td>41</td>\n",
       "      <td>39.9147</td>\n",
       "    </tr>\n",
       "  </tbody>\n",
       "</table>\n",
       "</div>"
      ],
      "text/plain": [
       "     RMSD        F1       F2       F3        F4            F5        F6  \\\n",
       "0  17.284  13558.30  4305.35  0.31754  162.1730  1.872791e+06  215.3590   \n",
       "1   6.021   6191.96  1623.16  0.26213   53.3894  8.034467e+05   87.2024   \n",
       "2   9.275   7725.98  1726.28  0.22343   67.2887  1.075648e+06   81.7913   \n",
       "3  15.851   8424.58  2368.25  0.28111   67.8325  1.210472e+06  109.4390   \n",
       "4   7.962   7460.84  1736.94  0.23280   52.4123  1.021020e+06   94.5234   \n",
       "\n",
       "        F7   F8       F9  \n",
       "0  4287.87  102  27.0302  \n",
       "1  3328.91   39  38.5468  \n",
       "2  2981.04   29  38.8119  \n",
       "3  3248.22   70  39.0651  \n",
       "4  2814.42   41  39.9147  "
      ]
     },
     "execution_count": 141,
     "metadata": {},
     "output_type": "execute_result"
    }
   ],
   "source": [
    "df = pd.read_csv(\"CASP.csv\")\n",
    "df.head()"
   ]
  },
  {
   "cell_type": "code",
   "execution_count": 142,
   "id": "75b7fbf2",
   "metadata": {},
   "outputs": [],
   "source": [
    "trn, tst = train_test_split(df, test_size=0.1,random_state=0)"
   ]
  },
  {
   "cell_type": "code",
   "execution_count": 143,
   "id": "56096a93",
   "metadata": {},
   "outputs": [],
   "source": [
    "X_test = tst.drop(['F9'],axis = 1)\n",
    "y_test = tst['F9']"
   ]
  },
  {
   "cell_type": "markdown",
   "id": "3c13e9f6",
   "metadata": {},
   "source": [
    "# Calculating Bias and Variance for decision tree with all features\n"
   ]
  },
  {
   "cell_type": "code",
   "execution_count": 144,
   "id": "85dfb9a1",
   "metadata": {},
   "outputs": [],
   "source": [
    "features = 5\n",
    "k = 5\n",
    "preds = []\n",
    "for i in np.arange(k):\n",
    "    # draw a training set from train portion\n",
    "    _, training = train_test_split(trn, test_size=0.3)\n",
    "    X_training = training.drop(['F9'], axis=1) \n",
    "    y_training = training['F9']\n",
    "    # fit a decision tree model using training set\n",
    "    decision_tree = DecisionTreeRegressor(criterion='squared_error', max_features= features).fit(X_training, y_training)\n",
    "    y_hat = decision_tree.predict(X_test)\n",
    "    preds.append(y_hat) # each list element has the full set of predicted values for y_hat"
   ]
  },
  {
   "cell_type": "code",
   "execution_count": 145,
   "id": "9d922088",
   "metadata": {},
   "outputs": [],
   "source": [
    "# k = len(preds)\n",
    "pred_df = pd.DataFrame()\n",
    "for i in np.arange(k):\n",
    "#    print(i, preds[i].shape)\n",
    "    pred_df = pd.concat([pred_df, pd.DataFrame(preds[i])], axis=1)"
   ]
  },
  {
   "cell_type": "code",
   "execution_count": 146,
   "id": "3a24a95c",
   "metadata": {},
   "outputs": [
    {
     "data": {
      "text/html": [
       "<div>\n",
       "<style scoped>\n",
       "    .dataframe tbody tr th:only-of-type {\n",
       "        vertical-align: middle;\n",
       "    }\n",
       "\n",
       "    .dataframe tbody tr th {\n",
       "        vertical-align: top;\n",
       "    }\n",
       "\n",
       "    .dataframe thead th {\n",
       "        text-align: right;\n",
       "    }\n",
       "</style>\n",
       "<table border=\"1\" class=\"dataframe\">\n",
       "  <thead>\n",
       "    <tr style=\"text-align: right;\">\n",
       "      <th></th>\n",
       "      <th>0</th>\n",
       "      <th>0</th>\n",
       "      <th>0</th>\n",
       "      <th>0</th>\n",
       "      <th>0</th>\n",
       "    </tr>\n",
       "  </thead>\n",
       "  <tbody>\n",
       "    <tr>\n",
       "      <th>0</th>\n",
       "      <td>37.26940</td>\n",
       "      <td>39.0552</td>\n",
       "      <td>36.3494</td>\n",
       "      <td>37.1233</td>\n",
       "      <td>37.6189</td>\n",
       "    </tr>\n",
       "    <tr>\n",
       "      <th>1</th>\n",
       "      <td>31.65060</td>\n",
       "      <td>29.4588</td>\n",
       "      <td>30.4036</td>\n",
       "      <td>28.2874</td>\n",
       "      <td>30.6031</td>\n",
       "    </tr>\n",
       "    <tr>\n",
       "      <th>2</th>\n",
       "      <td>44.43050</td>\n",
       "      <td>44.4659</td>\n",
       "      <td>44.4984</td>\n",
       "      <td>44.3866</td>\n",
       "      <td>44.2408</td>\n",
       "    </tr>\n",
       "    <tr>\n",
       "      <th>3</th>\n",
       "      <td>35.13540</td>\n",
       "      <td>38.5421</td>\n",
       "      <td>35.3115</td>\n",
       "      <td>35.5082</td>\n",
       "      <td>35.7598</td>\n",
       "    </tr>\n",
       "    <tr>\n",
       "      <th>4</th>\n",
       "      <td>32.01605</td>\n",
       "      <td>33.8820</td>\n",
       "      <td>34.0553</td>\n",
       "      <td>33.6355</td>\n",
       "      <td>33.8820</td>\n",
       "    </tr>\n",
       "  </tbody>\n",
       "</table>\n",
       "</div>"
      ],
      "text/plain": [
       "          0        0        0        0        0\n",
       "0  37.26940  39.0552  36.3494  37.1233  37.6189\n",
       "1  31.65060  29.4588  30.4036  28.2874  30.6031\n",
       "2  44.43050  44.4659  44.4984  44.3866  44.2408\n",
       "3  35.13540  38.5421  35.3115  35.5082  35.7598\n",
       "4  32.01605  33.8820  34.0553  33.6355  33.8820"
      ]
     },
     "execution_count": 146,
     "metadata": {},
     "output_type": "execute_result"
    }
   ],
   "source": [
    "pred_df.head()"
   ]
  },
  {
   "cell_type": "code",
   "execution_count": 147,
   "id": "0b795822",
   "metadata": {},
   "outputs": [],
   "source": [
    "var = np.array([])\n",
    "for i in np.arange(pred_df.shape[0]):\n",
    "    var = np.append(var, np.var(pred_df.iloc[i][:]))"
   ]
  },
  {
   "cell_type": "code",
   "execution_count": 148,
   "id": "53aa0b2b",
   "metadata": {},
   "outputs": [
    {
     "data": {
      "text/plain": [
       "3.0988362091345594"
      ]
     },
     "execution_count": 148,
     "metadata": {},
     "output_type": "execute_result"
    }
   ],
   "source": [
    "np.mean(var)"
   ]
  },
  {
   "cell_type": "code",
   "execution_count": 149,
   "id": "77efeeab",
   "metadata": {},
   "outputs": [],
   "source": [
    "def calc_bias_variance_dtree(feature):\n",
    "    k = 10\n",
    "    preds = []\n",
    "    pred_df = pd.DataFrame()\n",
    "    for i in np.arange(k):\n",
    "        # draw a training set from train portion\n",
    "        _, training = train_test_split(trn, test_size=0.3)\n",
    "        X_training = training.drop(['F9'], axis=1) \n",
    "        y_training = training['F9']\n",
    "        # fit a decision tree model using training set\n",
    "        decision_tree = DecisionTreeRegressor(criterion='squared_error', max_features = feature, random_state=0).fit(X_training, y_training)\n",
    "        y_hat = decision_tree.predict(X_test)\n",
    "        preds.append(y_hat)\n",
    "        pred_df = pd.concat([pred_df, pd.DataFrame(preds[i])], axis=1)\n",
    "    \n",
    "    # calculate variance as the variance among the value for the same sample from various models bias\n",
    "    var = np.array([])\n",
    "    for i in np.arange(pred_df.shape[0]):\n",
    "        var = np.append(var, np.var(pred_df.iloc[i][:]))\n",
    "\n",
    "    # calculate bias, as the gap between truth and avg of predicted values\n",
    "    # each row has k values predicted for the sample. get the mean of these columns. \n",
    "    # mean of squares of gap between that and true y.        \n",
    "    pred_df['rowmean'] = pred_df.mean(axis=1) # row means i.e. E(yhat across models)\n",
    "    gap = np.array(y_test) - np.array(pred_df.rowmean)\n",
    "    \n",
    "    return np.mean(var),np.mean(gap**2)"
   ]
  },
  {
   "cell_type": "code",
   "execution_count": 150,
   "id": "d6e244ba",
   "metadata": {},
   "outputs": [
    {
     "data": {
      "text/plain": [
       "(3.3434018671373984, 3.684738433759623)"
      ]
     },
     "execution_count": 150,
     "metadata": {},
     "output_type": "execute_result"
    }
   ],
   "source": [
    "calc_bias_variance_dtree(5)"
   ]
  },
  {
   "cell_type": "code",
   "execution_count": 152,
   "id": "e1edf10c",
   "metadata": {},
   "outputs": [],
   "source": [
    "var_lst = []\n",
    "bias_lst = []\n",
    "features = np.arange(start=1,stop=9,step=1)\n",
    "for i in features:\n",
    "    feature = i+1\n",
    "    var_lst.append(calc_bias_variance_dtree(feature)[0])\n",
    "    bias_lst.append(calc_bias_variance_dtree(feature)[1])"
   ]
  },
  {
   "cell_type": "code",
   "execution_count": 153,
   "id": "b95abcd4",
   "metadata": {},
   "outputs": [
    {
     "data": {
      "image/png": "[encoded data removed]",
      "text/plain": [
       "<Figure size 640x480 with 1 Axes>"
      ]
     },
     "metadata": {},
     "output_type": "display_data"
    },
    {
     "data": {
      "image/png": "[encoded data removed]",
      "text/plain": [
       "<Figure size 640x480 with 1 Axes>"
      ]
     },
     "metadata": {},
     "output_type": "display_data"
    }
   ],
   "source": [
    "plt.title(\"VARIANCE\")\n",
    "plt.plot(var_lst)\n",
    "plt.show()\n",
    "plt.title(\"BIAS\")\n",
    "plt.plot(bias_lst)\n",
    "plt.show()"
   ]
  },
  {
   "cell_type": "markdown",
   "id": "0dc1ff19",
   "metadata": {},
   "source": [
    "### criterion = squared error, max_depth=3, max_leaf_nodes=3 and iterating through features"
   ]
  },
  {
   "cell_type": "code",
   "execution_count": 179,
   "id": "e8338255",
   "metadata": {},
   "outputs": [],
   "source": [
    "def calc_bias_variance_RF(feature):\n",
    "    k = 10\n",
    "    preds = []\n",
    "    pred_df = pd.DataFrame()\n",
    "    for i in np.arange(k):\n",
    "        # draw a training set from train portion\n",
    "        _, training = train_test_split(trn, test_size=0.3)\n",
    "        X_training = training.drop(['F9'], axis=1) \n",
    "        y_training = training['F9']\n",
    "        # fit a decision tree model using training set\n",
    "        decision_tree = RandomForestRegressor(criterion='squared_error',max_features = feature, random_state=0).fit(X_training, y_training)\n",
    "        y_hat = decision_tree.predict(X_test)\n",
    "        preds.append(y_hat)\n",
    "        pred_df = pd.concat([pred_df, pd.DataFrame(preds[i])], axis=1)\n",
    "    \n",
    "    # calculate variance as the variance among the value for the same sample from various models bias\n",
    "    var = np.array([])\n",
    "    for i in np.arange(pred_df.shape[0]):\n",
    "        var = np.append(var, np.var(pred_df.iloc[i][:]))\n",
    "\n",
    "    # calculate bias, as the gap between truth and avg of predicted values\n",
    "    # each row has k values predicted for the sample. get the mean of these columns. \n",
    "    # mean of squares of gap between that and true y.        \n",
    "    pred_df['rowmean'] = pred_df.mean(axis=1) # row means i.e. E(yhat across models)\n",
    "    gap = np.array(y_test) - np.array(pred_df.rowmean)\n",
    "    \n",
    "    return np.mean(var),np.mean(gap**2)"
   ]
  },
  {
   "cell_type": "code",
   "execution_count": 180,
   "id": "3b14e93e",
   "metadata": {},
   "outputs": [
    {
     "data": {
      "text/plain": [
       "(0.22531352443356883, 3.221963276673813)"
      ]
     },
     "execution_count": 180,
     "metadata": {},
     "output_type": "execute_result"
    }
   ],
   "source": [
    "calc_bias_variance_RF(5)"
   ]
  },
  {
   "cell_type": "code",
   "execution_count": 182,
   "id": "68047e78",
   "metadata": {},
   "outputs": [],
   "source": [
    "var_lst = []\n",
    "bias_lst = []\n",
    "features = np.arange(start=1,stop=9,step=1)\n",
    "for i in features:\n",
    "    feature = i+1\n",
    "    var_lst.append(calc_bias_variance_RF(feature)[0])\n",
    "    bias_lst.append(calc_bias_variance_RF(feature)[1])"
   ]
  },
  {
   "cell_type": "code",
   "execution_count": 183,
   "id": "05565538",
   "metadata": {},
   "outputs": [
    {
     "data": {
      "image/png": "[encoded data removed]",
      "text/plain": [
       "<Figure size 640x480 with 1 Axes>"
      ]
     },
     "metadata": {},
     "output_type": "display_data"
    },
    {
     "data": {
      "image/png": "[encoded data removed]",
      "text/plain": [
       "<Figure size 640x480 with 1 Axes>"
      ]
     },
     "metadata": {},
     "output_type": "display_data"
    }
   ],
   "source": [
    "plt.title(\"VARIANCE\")\n",
    "plt.plot(var_lst)\n",
    "plt.show()\n",
    "plt.title(\"BIAS\")\n",
    "plt.plot(bias_lst)\n",
    "plt.show()"
   ]
  },
  {
   "cell_type": "markdown",
   "id": "3b043151",
   "metadata": {},
   "source": [
    "# Bias Variance Trade off - Linear Regression iterating through features"
   ]
  },
  {
   "cell_type": "code",
   "execution_count": 47,
   "id": "810db796",
   "metadata": {},
   "outputs": [],
   "source": [
    "import warnings\n",
    "warnings.filterwarnings(\"ignore\")"
   ]
  },
  {
   "cell_type": "code",
   "execution_count": 48,
   "id": "6632e260",
   "metadata": {},
   "outputs": [],
   "source": [
    "import pandas as pd\n",
    "import numpy as np\n",
    "np.random.seed(0)\n",
    "from sklearn.tree import DecisionTreeRegressor\n",
    "from sklearn.linear_model import LinearRegression, Lasso\n",
    "import matplotlib.pyplot as plt\n",
    "from sklearn.model_selection import train_test_split"
   ]
  },
  {
   "cell_type": "code",
   "execution_count": 154,
   "id": "39bc084e",
   "metadata": {},
   "outputs": [
    {
     "data": {
      "text/html": [
       "<div>\n",
       "<style scoped>\n",
       "    .dataframe tbody tr th:only-of-type {\n",
       "        vertical-align: middle;\n",
       "    }\n",
       "\n",
       "    .dataframe tbody tr th {\n",
       "        vertical-align: top;\n",
       "    }\n",
       "\n",
       "    .dataframe thead th {\n",
       "        text-align: right;\n",
       "    }\n",
       "</style>\n",
       "<table border=\"1\" class=\"dataframe\">\n",
       "  <thead>\n",
       "    <tr style=\"text-align: right;\">\n",
       "      <th></th>\n",
       "      <th>c1</th>\n",
       "      <th>c2</th>\n",
       "      <th>c3</th>\n",
       "      <th>c4</th>\n",
       "      <th>c5</th>\n",
       "      <th>c6</th>\n",
       "      <th>c7</th>\n",
       "      <th>c8</th>\n",
       "      <th>c9</th>\n",
       "      <th>c10</th>\n",
       "      <th>c11</th>\n",
       "      <th>c12</th>\n",
       "      <th>c13</th>\n",
       "      <th>c14</th>\n",
       "      <th>c16</th>\n",
       "      <th>c15</th>\n",
       "    </tr>\n",
       "  </thead>\n",
       "  <tbody>\n",
       "    <tr>\n",
       "      <th>0</th>\n",
       "      <td>1</td>\n",
       "      <td>36</td>\n",
       "      <td>4.0</td>\n",
       "      <td>0</td>\n",
       "      <td>0.0</td>\n",
       "      <td>0.0</td>\n",
       "      <td>0</td>\n",
       "      <td>0</td>\n",
       "      <td>0</td>\n",
       "      <td>193.0</td>\n",
       "      <td>110.0</td>\n",
       "      <td>77.0</td>\n",
       "      <td>29.667</td>\n",
       "      <td>88.0</td>\n",
       "      <td>0</td>\n",
       "      <td>84.7</td>\n",
       "    </tr>\n",
       "    <tr>\n",
       "      <th>1</th>\n",
       "      <td>0</td>\n",
       "      <td>43</td>\n",
       "      <td>2.0</td>\n",
       "      <td>0</td>\n",
       "      <td>0.0</td>\n",
       "      <td>0.0</td>\n",
       "      <td>0</td>\n",
       "      <td>0</td>\n",
       "      <td>0</td>\n",
       "      <td>248.0</td>\n",
       "      <td>125.0</td>\n",
       "      <td>89.1</td>\n",
       "      <td>31.603</td>\n",
       "      <td>104.5</td>\n",
       "      <td>0</td>\n",
       "      <td>83.6</td>\n",
       "    </tr>\n",
       "    <tr>\n",
       "      <th>2</th>\n",
       "      <td>1</td>\n",
       "      <td>45</td>\n",
       "      <td>1.0</td>\n",
       "      <td>1</td>\n",
       "      <td>20.0</td>\n",
       "      <td>0.0</td>\n",
       "      <td>0</td>\n",
       "      <td>0</td>\n",
       "      <td>0</td>\n",
       "      <td>243.0</td>\n",
       "      <td>131.5</td>\n",
       "      <td>88.0</td>\n",
       "      <td>27.874</td>\n",
       "      <td>82.5</td>\n",
       "      <td>0</td>\n",
       "      <td>77.0</td>\n",
       "    </tr>\n",
       "    <tr>\n",
       "      <th>3</th>\n",
       "      <td>0</td>\n",
       "      <td>58</td>\n",
       "      <td>3.0</td>\n",
       "      <td>1</td>\n",
       "      <td>30.0</td>\n",
       "      <td>0.0</td>\n",
       "      <td>0</td>\n",
       "      <td>1</td>\n",
       "      <td>0</td>\n",
       "      <td>223.0</td>\n",
       "      <td>154.0</td>\n",
       "      <td>104.5</td>\n",
       "      <td>31.438</td>\n",
       "      <td>71.5</td>\n",
       "      <td>1</td>\n",
       "      <td>113.3</td>\n",
       "    </tr>\n",
       "    <tr>\n",
       "      <th>4</th>\n",
       "      <td>0</td>\n",
       "      <td>43</td>\n",
       "      <td>3.0</td>\n",
       "      <td>1</td>\n",
       "      <td>23.0</td>\n",
       "      <td>0.0</td>\n",
       "      <td>0</td>\n",
       "      <td>0</td>\n",
       "      <td>0</td>\n",
       "      <td>283.0</td>\n",
       "      <td>134.0</td>\n",
       "      <td>92.4</td>\n",
       "      <td>25.410</td>\n",
       "      <td>93.5</td>\n",
       "      <td>0</td>\n",
       "      <td>93.5</td>\n",
       "    </tr>\n",
       "  </tbody>\n",
       "</table>\n",
       "</div>"
      ],
      "text/plain": [
       "   c1  c2   c3  c4    c5   c6  c7  c8  c9    c10    c11    c12     c13    c14  \\\n",
       "0   1  36  4.0   0   0.0  0.0   0   0   0  193.0  110.0   77.0  29.667   88.0   \n",
       "1   0  43  2.0   0   0.0  0.0   0   0   0  248.0  125.0   89.1  31.603  104.5   \n",
       "2   1  45  1.0   1  20.0  0.0   0   0   0  243.0  131.5   88.0  27.874   82.5   \n",
       "3   0  58  3.0   1  30.0  0.0   0   1   0  223.0  154.0  104.5  31.438   71.5   \n",
       "4   0  43  3.0   1  23.0  0.0   0   0   0  283.0  134.0   92.4  25.410   93.5   \n",
       "\n",
       "   c16    c15  \n",
       "0    0   84.7  \n",
       "1    0   83.6  \n",
       "2    0   77.0  \n",
       "3    1  113.3  \n",
       "4    0   93.5  "
      ]
     },
     "execution_count": 154,
     "metadata": {},
     "output_type": "execute_result"
    }
   ],
   "source": [
    "df1 = pd.read_excel(\"iml.xlsx\",'Sheet1')\n",
    "df1.head()"
   ]
  },
  {
   "cell_type": "code",
   "execution_count": 155,
   "id": "99ee71d8",
   "metadata": {},
   "outputs": [
    {
     "data": {
      "text/plain": [
       "(4240, 16)"
      ]
     },
     "execution_count": 155,
     "metadata": {},
     "output_type": "execute_result"
    }
   ],
   "source": [
    "df1.shape"
   ]
  },
  {
   "cell_type": "code",
   "execution_count": 156,
   "id": "f54928dd",
   "metadata": {},
   "outputs": [],
   "source": [
    "df1.dropna(inplace=True)"
   ]
  },
  {
   "cell_type": "code",
   "execution_count": 157,
   "id": "b5660632",
   "metadata": {},
   "outputs": [
    {
     "data": {
      "text/plain": [
       "c1     0\n",
       "c2     0\n",
       "c3     0\n",
       "c4     0\n",
       "c5     0\n",
       "c6     0\n",
       "c7     0\n",
       "c8     0\n",
       "c9     0\n",
       "c10    0\n",
       "c11    0\n",
       "c12    0\n",
       "c13    0\n",
       "c14    0\n",
       "c16    0\n",
       "c15    0\n",
       "dtype: int64"
      ]
     },
     "execution_count": 157,
     "metadata": {},
     "output_type": "execute_result"
    }
   ],
   "source": [
    "df1.isna().sum()"
   ]
  },
  {
   "cell_type": "code",
   "execution_count": 29,
   "id": "c22a91ab",
   "metadata": {},
   "outputs": [],
   "source": [
    "train, test = train_test_split(df, test_size=0.1,random_state=0)"
   ]
  },
  {
   "cell_type": "code",
   "execution_count": 30,
   "id": "2b1c033a",
   "metadata": {},
   "outputs": [
    {
     "data": {
      "text/plain": [
       "((3292, 16), (366, 16))"
      ]
     },
     "execution_count": 30,
     "metadata": {},
     "output_type": "execute_result"
    }
   ],
   "source": [
    "train.shape, test.shape"
   ]
  },
  {
   "cell_type": "code",
   "execution_count": 31,
   "id": "0c66567c",
   "metadata": {},
   "outputs": [],
   "source": [
    "X_test = test.drop(['c15'], axis=1) \n",
    "y_test = test['c15']"
   ]
  },
  {
   "cell_type": "code",
   "execution_count": 158,
   "id": "b18a2a6b",
   "metadata": {},
   "outputs": [],
   "source": [
    "\n",
    "n=2\n",
    "preds = []\n",
    "pred_df=pd.DataFrame()\n",
    "for i in range(df1.shape[1]):\n",
    "   \n",
    "    # draw a training set from train portion\n",
    "    ignore, training = train_test_split(train, test_size=0.3)\n",
    "    X_training = training.drop(['c15'],axis=1) \n",
    "    y_training = training['c15']\n",
    "    # fit a decision tree model using training set\n",
    "    lr= LinearRegression()\n",
    "    model=lr.fit(X_training.iloc[:,0:n], y_training)\n",
    "    y_hat = model.predict(X_test.iloc[:,0:n])\n",
    "    preds.append(y_hat) # each list element has the full set of predicted values for y_hat\n",
    "    pred_df = pd.concat([pred_df, pd.DataFrame(preds[i])], axis=1)"
   ]
  },
  {
   "cell_type": "code",
   "execution_count": 159,
   "id": "1796a9a5",
   "metadata": {},
   "outputs": [
    {
     "data": {
      "text/html": [
       "<div>\n",
       "<style scoped>\n",
       "    .dataframe tbody tr th:only-of-type {\n",
       "        vertical-align: middle;\n",
       "    }\n",
       "\n",
       "    .dataframe tbody tr th {\n",
       "        vertical-align: top;\n",
       "    }\n",
       "\n",
       "    .dataframe thead th {\n",
       "        text-align: right;\n",
       "    }\n",
       "</style>\n",
       "<table border=\"1\" class=\"dataframe\">\n",
       "  <thead>\n",
       "    <tr style=\"text-align: right;\">\n",
       "      <th></th>\n",
       "      <th>0</th>\n",
       "      <th>0</th>\n",
       "      <th>0</th>\n",
       "      <th>0</th>\n",
       "      <th>0</th>\n",
       "      <th>0</th>\n",
       "      <th>0</th>\n",
       "      <th>0</th>\n",
       "      <th>0</th>\n",
       "      <th>0</th>\n",
       "      <th>0</th>\n",
       "      <th>0</th>\n",
       "      <th>0</th>\n",
       "      <th>0</th>\n",
       "      <th>0</th>\n",
       "      <th>0</th>\n",
       "    </tr>\n",
       "  </thead>\n",
       "  <tbody>\n",
       "    <tr>\n",
       "      <th>0</th>\n",
       "      <td>2555.263930</td>\n",
       "      <td>3272.581613</td>\n",
       "      <td>2679.305359</td>\n",
       "      <td>4015.998708</td>\n",
       "      <td>2765.446436</td>\n",
       "      <td>2847.993982</td>\n",
       "      <td>3958.921223</td>\n",
       "      <td>2113.402985</td>\n",
       "      <td>2204.818735</td>\n",
       "      <td>4011.032379</td>\n",
       "      <td>2130.540893</td>\n",
       "      <td>2445.637654</td>\n",
       "      <td>2377.046243</td>\n",
       "      <td>2303.980332</td>\n",
       "      <td>3113.174725</td>\n",
       "      <td>4011.605238</td>\n",
       "    </tr>\n",
       "    <tr>\n",
       "      <th>1</th>\n",
       "      <td>4607.500322</td>\n",
       "      <td>5895.644249</td>\n",
       "      <td>4815.334014</td>\n",
       "      <td>7255.902941</td>\n",
       "      <td>4918.474748</td>\n",
       "      <td>5117.628572</td>\n",
       "      <td>7119.131181</td>\n",
       "      <td>3780.949983</td>\n",
       "      <td>3939.474392</td>\n",
       "      <td>7220.431250</td>\n",
       "      <td>3794.969227</td>\n",
       "      <td>4330.802318</td>\n",
       "      <td>4240.309957</td>\n",
       "      <td>4104.557780</td>\n",
       "      <td>5590.555241</td>\n",
       "      <td>7245.458393</td>\n",
       "    </tr>\n",
       "    <tr>\n",
       "      <th>2</th>\n",
       "      <td>1339.269752</td>\n",
       "      <td>1687.488266</td>\n",
       "      <td>1390.074532</td>\n",
       "      <td>2063.866625</td>\n",
       "      <td>1404.263254</td>\n",
       "      <td>1472.028327</td>\n",
       "      <td>2015.672174</td>\n",
       "      <td>1104.181483</td>\n",
       "      <td>1145.537588</td>\n",
       "      <td>2046.718876</td>\n",
       "      <td>1103.323667</td>\n",
       "      <td>1240.072150</td>\n",
       "      <td>1224.690581</td>\n",
       "      <td>1187.094067</td>\n",
       "      <td>1598.347520</td>\n",
       "      <td>2060.827786</td>\n",
       "    </tr>\n",
       "    <tr>\n",
       "      <th>3</th>\n",
       "      <td>3235.802847</td>\n",
       "      <td>4131.105461</td>\n",
       "      <td>3378.992279</td>\n",
       "      <td>5078.505968</td>\n",
       "      <td>3448.109405</td>\n",
       "      <td>3589.213360</td>\n",
       "      <td>4980.961465</td>\n",
       "      <td>2658.625086</td>\n",
       "      <td>2768.523982</td>\n",
       "      <td>5052.343463</td>\n",
       "      <td>2667.461824</td>\n",
       "      <td>3038.340505</td>\n",
       "      <td>2977.220444</td>\n",
       "      <td>2882.754357</td>\n",
       "      <td>3917.510090</td>\n",
       "      <td>5071.288974</td>\n",
       "    </tr>\n",
       "    <tr>\n",
       "      <th>4</th>\n",
       "      <td>3215.428946</td>\n",
       "      <td>4111.961929</td>\n",
       "      <td>3363.056408</td>\n",
       "      <td>5053.584229</td>\n",
       "      <td>3445.829603</td>\n",
       "      <td>3573.642443</td>\n",
       "      <td>4965.396073</td>\n",
       "      <td>2646.798612</td>\n",
       "      <td>2758.331626</td>\n",
       "      <td>5034.484319</td>\n",
       "      <td>2660.099664</td>\n",
       "      <td>3039.411943</td>\n",
       "      <td>2969.520648</td>\n",
       "      <td>2876.050787</td>\n",
       "      <td>3903.399462</td>\n",
       "      <td>5046.925693</td>\n",
       "    </tr>\n",
       "    <tr>\n",
       "      <th>...</th>\n",
       "      <td>...</td>\n",
       "      <td>...</td>\n",
       "      <td>...</td>\n",
       "      <td>...</td>\n",
       "      <td>...</td>\n",
       "      <td>...</td>\n",
       "      <td>...</td>\n",
       "      <td>...</td>\n",
       "      <td>...</td>\n",
       "      <td>...</td>\n",
       "      <td>...</td>\n",
       "      <td>...</td>\n",
       "      <td>...</td>\n",
       "      <td>...</td>\n",
       "      <td>...</td>\n",
       "      <td>...</td>\n",
       "    </tr>\n",
       "    <tr>\n",
       "      <th>4568</th>\n",
       "      <td>4220.249432</td>\n",
       "      <td>5416.291291</td>\n",
       "      <td>4424.199424</td>\n",
       "      <td>6660.935994</td>\n",
       "      <td>4555.422920</td>\n",
       "      <td>4705.111065</td>\n",
       "      <td>6558.588350</td>\n",
       "      <td>3476.990812</td>\n",
       "      <td>3628.058532</td>\n",
       "      <td>6646.520303</td>\n",
       "      <td>3501.632800</td>\n",
       "      <td>4019.861762</td>\n",
       "      <td>3913.157496</td>\n",
       "      <td>3790.080297</td>\n",
       "      <td>5146.809870</td>\n",
       "      <td>6652.761290</td>\n",
       "    </tr>\n",
       "    <tr>\n",
       "      <th>4569</th>\n",
       "      <td>2684.383882</td>\n",
       "      <td>3431.106764</td>\n",
       "      <td>2808.723826</td>\n",
       "      <td>4213.007357</td>\n",
       "      <td>2882.887388</td>\n",
       "      <td>2984.222299</td>\n",
       "      <td>4142.832460</td>\n",
       "      <td>2213.857193</td>\n",
       "      <td>2307.324262</td>\n",
       "      <td>4199.742273</td>\n",
       "      <td>2226.614944</td>\n",
       "      <td>2545.572457</td>\n",
       "      <td>2484.086084</td>\n",
       "      <td>2406.723296</td>\n",
       "      <td>3259.149192</td>\n",
       "      <td>4207.762826</td>\n",
       "    </tr>\n",
       "    <tr>\n",
       "      <th>4570</th>\n",
       "      <td>5266.314677</td>\n",
       "      <td>6770.519940</td>\n",
       "      <td>5526.118406</td>\n",
       "      <td>8330.442827</td>\n",
       "      <td>5700.486267</td>\n",
       "      <td>5879.349861</td>\n",
       "      <td>8208.835082</td>\n",
       "      <td>4338.764901</td>\n",
       "      <td>4529.776325</td>\n",
       "      <td>8317.336847</td>\n",
       "      <td>4372.874080</td>\n",
       "      <td>5030.115548</td>\n",
       "      <td>4889.830115</td>\n",
       "      <td>4735.733002</td>\n",
       "      <td>6435.726554</td>\n",
       "      <td>8320.426748</td>\n",
       "    </tr>\n",
       "    <tr>\n",
       "      <th>4571</th>\n",
       "      <td>3441.131610</td>\n",
       "      <td>4395.257838</td>\n",
       "      <td>3594.012418</td>\n",
       "      <td>5404.459868</td>\n",
       "      <td>3668.261366</td>\n",
       "      <td>3818.020688</td>\n",
       "      <td>5301.067520</td>\n",
       "      <td>2826.638668</td>\n",
       "      <td>2943.822758</td>\n",
       "      <td>5376.922868</td>\n",
       "      <td>2836.263629</td>\n",
       "      <td>3231.864113</td>\n",
       "      <td>3166.322070</td>\n",
       "      <td>3065.676938</td>\n",
       "      <td>4167.976904</td>\n",
       "      <td>5396.761143</td>\n",
       "    </tr>\n",
       "    <tr>\n",
       "      <th>4572</th>\n",
       "      <td>1312.391679</td>\n",
       "      <td>1662.719451</td>\n",
       "      <td>1369.422695</td>\n",
       "      <td>2031.499321</td>\n",
       "      <td>1402.601388</td>\n",
       "      <td>1451.977153</td>\n",
       "      <td>1996.251791</td>\n",
       "      <td>1088.912763</td>\n",
       "      <td>1132.586785</td>\n",
       "      <td>2024.145241</td>\n",
       "      <td>1094.256900</td>\n",
       "      <td>1242.880143</td>\n",
       "      <td>1215.293715</td>\n",
       "      <td>1179.037814</td>\n",
       "      <td>1580.471089</td>\n",
       "      <td>2029.232348</td>\n",
       "    </tr>\n",
       "  </tbody>\n",
       "</table>\n",
       "<p>4573 rows × 16 columns</p>\n",
       "</div>"
      ],
      "text/plain": [
       "                0            0            0            0            0  \\\n",
       "0     2555.263930  3272.581613  2679.305359  4015.998708  2765.446436   \n",
       "1     4607.500322  5895.644249  4815.334014  7255.902941  4918.474748   \n",
       "2     1339.269752  1687.488266  1390.074532  2063.866625  1404.263254   \n",
       "3     3235.802847  4131.105461  3378.992279  5078.505968  3448.109405   \n",
       "4     3215.428946  4111.961929  3363.056408  5053.584229  3445.829603   \n",
       "...           ...          ...          ...          ...          ...   \n",
       "4568  4220.249432  5416.291291  4424.199424  6660.935994  4555.422920   \n",
       "4569  2684.383882  3431.106764  2808.723826  4213.007357  2882.887388   \n",
       "4570  5266.314677  6770.519940  5526.118406  8330.442827  5700.486267   \n",
       "4571  3441.131610  4395.257838  3594.012418  5404.459868  3668.261366   \n",
       "4572  1312.391679  1662.719451  1369.422695  2031.499321  1402.601388   \n",
       "\n",
       "                0            0            0            0            0  \\\n",
       "0     2847.993982  3958.921223  2113.402985  2204.818735  4011.032379   \n",
       "1     5117.628572  7119.131181  3780.949983  3939.474392  7220.431250   \n",
       "2     1472.028327  2015.672174  1104.181483  1145.537588  2046.718876   \n",
       "3     3589.213360  4980.961465  2658.625086  2768.523982  5052.343463   \n",
       "4     3573.642443  4965.396073  2646.798612  2758.331626  5034.484319   \n",
       "...           ...          ...          ...          ...          ...   \n",
       "4568  4705.111065  6558.588350  3476.990812  3628.058532  6646.520303   \n",
       "4569  2984.222299  4142.832460  2213.857193  2307.324262  4199.742273   \n",
       "4570  5879.349861  8208.835082  4338.764901  4529.776325  8317.336847   \n",
       "4571  3818.020688  5301.067520  2826.638668  2943.822758  5376.922868   \n",
       "4572  1451.977153  1996.251791  1088.912763  1132.586785  2024.145241   \n",
       "\n",
       "                0            0            0            0            0  \\\n",
       "0     2130.540893  2445.637654  2377.046243  2303.980332  3113.174725   \n",
       "1     3794.969227  4330.802318  4240.309957  4104.557780  5590.555241   \n",
       "2     1103.323667  1240.072150  1224.690581  1187.094067  1598.347520   \n",
       "3     2667.461824  3038.340505  2977.220444  2882.754357  3917.510090   \n",
       "4     2660.099664  3039.411943  2969.520648  2876.050787  3903.399462   \n",
       "...           ...          ...          ...          ...          ...   \n",
       "4568  3501.632800  4019.861762  3913.157496  3790.080297  5146.809870   \n",
       "4569  2226.614944  2545.572457  2484.086084  2406.723296  3259.149192   \n",
       "4570  4372.874080  5030.115548  4889.830115  4735.733002  6435.726554   \n",
       "4571  2836.263629  3231.864113  3166.322070  3065.676938  4167.976904   \n",
       "4572  1094.256900  1242.880143  1215.293715  1179.037814  1580.471089   \n",
       "\n",
       "                0  \n",
       "0     4011.605238  \n",
       "1     7245.458393  \n",
       "2     2060.827786  \n",
       "3     5071.288974  \n",
       "4     5046.925693  \n",
       "...           ...  \n",
       "4568  6652.761290  \n",
       "4569  4207.762826  \n",
       "4570  8320.426748  \n",
       "4571  5396.761143  \n",
       "4572  2029.232348  \n",
       "\n",
       "[4573 rows x 16 columns]"
      ]
     },
     "execution_count": 159,
     "metadata": {},
     "output_type": "execute_result"
    }
   ],
   "source": [
    "pred_df"
   ]
  },
  {
   "cell_type": "code",
   "execution_count": 160,
   "id": "beeb101a",
   "metadata": {},
   "outputs": [
    {
     "data": {
      "text/plain": [
       "(4573, 16)"
      ]
     },
     "execution_count": 160,
     "metadata": {},
     "output_type": "execute_result"
    }
   ],
   "source": [
    "pred_df.shape"
   ]
  },
  {
   "cell_type": "code",
   "execution_count": 161,
   "id": "4cca1b54",
   "metadata": {},
   "outputs": [
    {
     "data": {
      "text/html": [
       "<div>\n",
       "<style scoped>\n",
       "    .dataframe tbody tr th:only-of-type {\n",
       "        vertical-align: middle;\n",
       "    }\n",
       "\n",
       "    .dataframe tbody tr th {\n",
       "        vertical-align: top;\n",
       "    }\n",
       "\n",
       "    .dataframe thead th {\n",
       "        text-align: right;\n",
       "    }\n",
       "</style>\n",
       "<table border=\"1\" class=\"dataframe\">\n",
       "  <thead>\n",
       "    <tr style=\"text-align: right;\">\n",
       "      <th></th>\n",
       "      <th>0</th>\n",
       "      <th>0</th>\n",
       "      <th>0</th>\n",
       "      <th>0</th>\n",
       "      <th>0</th>\n",
       "      <th>0</th>\n",
       "      <th>0</th>\n",
       "      <th>0</th>\n",
       "      <th>0</th>\n",
       "      <th>0</th>\n",
       "      <th>0</th>\n",
       "      <th>0</th>\n",
       "      <th>0</th>\n",
       "      <th>0</th>\n",
       "      <th>0</th>\n",
       "      <th>0</th>\n",
       "    </tr>\n",
       "  </thead>\n",
       "  <tbody>\n",
       "    <tr>\n",
       "      <th>0</th>\n",
       "      <td>2555.263930</td>\n",
       "      <td>3272.581613</td>\n",
       "      <td>2679.305359</td>\n",
       "      <td>4015.998708</td>\n",
       "      <td>2765.446436</td>\n",
       "      <td>2847.993982</td>\n",
       "      <td>3958.921223</td>\n",
       "      <td>2113.402985</td>\n",
       "      <td>2204.818735</td>\n",
       "      <td>4011.032379</td>\n",
       "      <td>2130.540893</td>\n",
       "      <td>2445.637654</td>\n",
       "      <td>2377.046243</td>\n",
       "      <td>2303.980332</td>\n",
       "      <td>3113.174725</td>\n",
       "      <td>4011.605238</td>\n",
       "    </tr>\n",
       "    <tr>\n",
       "      <th>1</th>\n",
       "      <td>4607.500322</td>\n",
       "      <td>5895.644249</td>\n",
       "      <td>4815.334014</td>\n",
       "      <td>7255.902941</td>\n",
       "      <td>4918.474748</td>\n",
       "      <td>5117.628572</td>\n",
       "      <td>7119.131181</td>\n",
       "      <td>3780.949983</td>\n",
       "      <td>3939.474392</td>\n",
       "      <td>7220.431250</td>\n",
       "      <td>3794.969227</td>\n",
       "      <td>4330.802318</td>\n",
       "      <td>4240.309957</td>\n",
       "      <td>4104.557780</td>\n",
       "      <td>5590.555241</td>\n",
       "      <td>7245.458393</td>\n",
       "    </tr>\n",
       "    <tr>\n",
       "      <th>2</th>\n",
       "      <td>1339.269752</td>\n",
       "      <td>1687.488266</td>\n",
       "      <td>1390.074532</td>\n",
       "      <td>2063.866625</td>\n",
       "      <td>1404.263254</td>\n",
       "      <td>1472.028327</td>\n",
       "      <td>2015.672174</td>\n",
       "      <td>1104.181483</td>\n",
       "      <td>1145.537588</td>\n",
       "      <td>2046.718876</td>\n",
       "      <td>1103.323667</td>\n",
       "      <td>1240.072150</td>\n",
       "      <td>1224.690581</td>\n",
       "      <td>1187.094067</td>\n",
       "      <td>1598.347520</td>\n",
       "      <td>2060.827786</td>\n",
       "    </tr>\n",
       "    <tr>\n",
       "      <th>3</th>\n",
       "      <td>3235.802847</td>\n",
       "      <td>4131.105461</td>\n",
       "      <td>3378.992279</td>\n",
       "      <td>5078.505968</td>\n",
       "      <td>3448.109405</td>\n",
       "      <td>3589.213360</td>\n",
       "      <td>4980.961465</td>\n",
       "      <td>2658.625086</td>\n",
       "      <td>2768.523982</td>\n",
       "      <td>5052.343463</td>\n",
       "      <td>2667.461824</td>\n",
       "      <td>3038.340505</td>\n",
       "      <td>2977.220444</td>\n",
       "      <td>2882.754357</td>\n",
       "      <td>3917.510090</td>\n",
       "      <td>5071.288974</td>\n",
       "    </tr>\n",
       "    <tr>\n",
       "      <th>4</th>\n",
       "      <td>3215.428946</td>\n",
       "      <td>4111.961929</td>\n",
       "      <td>3363.056408</td>\n",
       "      <td>5053.584229</td>\n",
       "      <td>3445.829603</td>\n",
       "      <td>3573.642443</td>\n",
       "      <td>4965.396073</td>\n",
       "      <td>2646.798612</td>\n",
       "      <td>2758.331626</td>\n",
       "      <td>5034.484319</td>\n",
       "      <td>2660.099664</td>\n",
       "      <td>3039.411943</td>\n",
       "      <td>2969.520648</td>\n",
       "      <td>2876.050787</td>\n",
       "      <td>3903.399462</td>\n",
       "      <td>5046.925693</td>\n",
       "    </tr>\n",
       "  </tbody>\n",
       "</table>\n",
       "</div>"
      ],
      "text/plain": [
       "             0            0            0            0            0  \\\n",
       "0  2555.263930  3272.581613  2679.305359  4015.998708  2765.446436   \n",
       "1  4607.500322  5895.644249  4815.334014  7255.902941  4918.474748   \n",
       "2  1339.269752  1687.488266  1390.074532  2063.866625  1404.263254   \n",
       "3  3235.802847  4131.105461  3378.992279  5078.505968  3448.109405   \n",
       "4  3215.428946  4111.961929  3363.056408  5053.584229  3445.829603   \n",
       "\n",
       "             0            0            0            0            0  \\\n",
       "0  2847.993982  3958.921223  2113.402985  2204.818735  4011.032379   \n",
       "1  5117.628572  7119.131181  3780.949983  3939.474392  7220.431250   \n",
       "2  1472.028327  2015.672174  1104.181483  1145.537588  2046.718876   \n",
       "3  3589.213360  4980.961465  2658.625086  2768.523982  5052.343463   \n",
       "4  3573.642443  4965.396073  2646.798612  2758.331626  5034.484319   \n",
       "\n",
       "             0            0            0            0            0  \\\n",
       "0  2130.540893  2445.637654  2377.046243  2303.980332  3113.174725   \n",
       "1  3794.969227  4330.802318  4240.309957  4104.557780  5590.555241   \n",
       "2  1103.323667  1240.072150  1224.690581  1187.094067  1598.347520   \n",
       "3  2667.461824  3038.340505  2977.220444  2882.754357  3917.510090   \n",
       "4  2660.099664  3039.411943  2969.520648  2876.050787  3903.399462   \n",
       "\n",
       "             0  \n",
       "0  4011.605238  \n",
       "1  7245.458393  \n",
       "2  2060.827786  \n",
       "3  5071.288974  \n",
       "4  5046.925693  "
      ]
     },
     "execution_count": 161,
     "metadata": {},
     "output_type": "execute_result"
    }
   ],
   "source": [
    "pred_df.head()"
   ]
  },
  {
   "cell_type": "code",
   "execution_count": 162,
   "id": "a3d61090",
   "metadata": {},
   "outputs": [],
   "source": [
    "var = np.array([])\n",
    "for i in np.arange(pred_df.shape[0]):\n",
    "    var = np.append(var, np.var(pred_df.iloc[i,:]))"
   ]
  },
  {
   "cell_type": "code",
   "execution_count": 163,
   "id": "73f91a5d",
   "metadata": {},
   "outputs": [
    {
     "data": {
      "text/plain": [
       "969299.5884363961"
      ]
     },
     "execution_count": 163,
     "metadata": {},
     "output_type": "execute_result"
    }
   ],
   "source": [
    "np.mean(var)"
   ]
  },
  {
   "cell_type": "code",
   "execution_count": 164,
   "id": "73c0b492",
   "metadata": {},
   "outputs": [
    {
     "data": {
      "text/plain": [
       "9"
      ]
     },
     "execution_count": 164,
     "metadata": {},
     "output_type": "execute_result"
    }
   ],
   "source": [
    "n = X_test.shape[1]\n",
    "n"
   ]
  },
  {
   "cell_type": "code",
   "execution_count": 165,
   "id": "9b4291b3",
   "metadata": {},
   "outputs": [],
   "source": [
    "def calc_bias_variance(n):\n",
    "    features  = n\n",
    "    preds = []\n",
    "    pred_df = pd.DataFrame()\n",
    "    for i in range(features):\n",
    "        # draw a training set from train portion\n",
    "        _, training = train_test_split(train, test_size=0.3)\n",
    "        X_training = training.drop(['c15'],axis=1) \n",
    "        y_training = training['c15']\n",
    "        # fit a decision tree model using training set\n",
    "        lr= LinearRegression()\n",
    "        model=lr.fit(X_training.iloc[:,:n], y_training)\n",
    "        y_hat=model.predict(X_test.iloc[:,:n])\n",
    "        preds.append(y_hat)\n",
    "        pred_df = pd.concat([pred_df, pd.DataFrame(preds[i])], axis=1)\n",
    "    \n",
    "    # calculate variance as the variance among the value for the same sample from various models bias\n",
    "    var = np.array([])\n",
    "    for i in np.arange(pred_df.shape[0]):\n",
    "        var = np.append(var, np.var(pred_df.iloc[i,:]))\n",
    "\n",
    "    # calculate bias, as the gap between truth and avg of predicted values\n",
    "    # each row has k values predicted for the sample. get the mean of these columns. \n",
    "    # mean of squares of gap between that and true y.        \n",
    "    pred_df['rowmean'] = pred_df.mean(axis=1) # row means i.e. E(yhat across models)\n",
    "    gap = np.array(y_test) - np.array(pred_df.rowmean)\n",
    "    \n",
    "    return np.mean(var),np.mean(gap**2)"
   ]
  },
  {
   "cell_type": "code",
   "execution_count": 166,
   "id": "35977c58",
   "metadata": {},
   "outputs": [
    {
     "data": {
      "text/plain": [
       "(88402002945252.55, 133573336717360.77)"
      ]
     },
     "execution_count": 166,
     "metadata": {},
     "output_type": "execute_result"
    }
   ],
   "source": [
    "calc_bias_variance(n)"
   ]
  },
  {
   "cell_type": "code",
   "execution_count": 167,
   "id": "4ca397b2",
   "metadata": {},
   "outputs": [],
   "source": [
    "var_lst = []\n",
    "bias_lst = []\n",
    "columns = np.arange(start=2,stop=10,step=1)\n",
    "for i in columns:\n",
    "   \n",
    "    var_lst.append(calc_bias_variance(i)[0])\n",
    "    bias_lst.append(calc_bias_variance(i)[1])"
   ]
  },
  {
   "cell_type": "code",
   "execution_count": 168,
   "id": "a7b510c1",
   "metadata": {},
   "outputs": [
    {
     "data": {
      "image/png": "[encoded data removed]",
      "text/plain": [
       "<Figure size 640x480 with 1 Axes>"
      ]
     },
     "metadata": {},
     "output_type": "display_data"
    },
    {
     "data": {
      "image/png": "[encoded data removed]",
      "text/plain": [
       "<Figure size 640x480 with 1 Axes>"
      ]
     },
     "metadata": {},
     "output_type": "display_data"
    }
   ],
   "source": [
    "plt.title(\"VARIANCE LR\")\n",
    "plt.plot(var_lst)\n",
    "plt.show()\n",
    "plt.title(\"BIAS LR\")\n",
    "plt.plot(bias_lst)\n",
    "plt.show()"
   ]
  },
  {
   "cell_type": "markdown",
   "id": "a038bf22",
   "metadata": {},
   "source": [
    "\n",
    "## Calculating Bias Variance for Randomforest"
   ]
  },
  {
   "cell_type": "code",
   "execution_count": 169,
   "id": "ec10d163",
   "metadata": {},
   "outputs": [],
   "source": [
    "from sklearn.ensemble import RandomForestRegressor\n"
   ]
  },
  {
   "cell_type": "code",
   "execution_count": 170,
   "id": "f14fa929",
   "metadata": {},
   "outputs": [],
   "source": [
    "df2=pd.read_csv('CASP.csv')"
   ]
  },
  {
   "cell_type": "code",
   "execution_count": 171,
   "id": "d9412df3",
   "metadata": {},
   "outputs": [
    {
     "data": {
      "text/html": [
       "<div>\n",
       "<style scoped>\n",
       "    .dataframe tbody tr th:only-of-type {\n",
       "        vertical-align: middle;\n",
       "    }\n",
       "\n",
       "    .dataframe tbody tr th {\n",
       "        vertical-align: top;\n",
       "    }\n",
       "\n",
       "    .dataframe thead th {\n",
       "        text-align: right;\n",
       "    }\n",
       "</style>\n",
       "<table border=\"1\" class=\"dataframe\">\n",
       "  <thead>\n",
       "    <tr style=\"text-align: right;\">\n",
       "      <th></th>\n",
       "      <th>RMSD</th>\n",
       "      <th>F1</th>\n",
       "      <th>F2</th>\n",
       "      <th>F3</th>\n",
       "      <th>F4</th>\n",
       "      <th>F5</th>\n",
       "      <th>F6</th>\n",
       "      <th>F7</th>\n",
       "      <th>F8</th>\n",
       "      <th>F9</th>\n",
       "    </tr>\n",
       "  </thead>\n",
       "  <tbody>\n",
       "    <tr>\n",
       "      <th>0</th>\n",
       "      <td>17.284</td>\n",
       "      <td>13558.30</td>\n",
       "      <td>4305.35</td>\n",
       "      <td>0.31754</td>\n",
       "      <td>162.1730</td>\n",
       "      <td>1.872791e+06</td>\n",
       "      <td>215.3590</td>\n",
       "      <td>4287.87</td>\n",
       "      <td>102</td>\n",
       "      <td>27.0302</td>\n",
       "    </tr>\n",
       "    <tr>\n",
       "      <th>1</th>\n",
       "      <td>6.021</td>\n",
       "      <td>6191.96</td>\n",
       "      <td>1623.16</td>\n",
       "      <td>0.26213</td>\n",
       "      <td>53.3894</td>\n",
       "      <td>8.034467e+05</td>\n",
       "      <td>87.2024</td>\n",
       "      <td>3328.91</td>\n",
       "      <td>39</td>\n",
       "      <td>38.5468</td>\n",
       "    </tr>\n",
       "    <tr>\n",
       "      <th>2</th>\n",
       "      <td>9.275</td>\n",
       "      <td>7725.98</td>\n",
       "      <td>1726.28</td>\n",
       "      <td>0.22343</td>\n",
       "      <td>67.2887</td>\n",
       "      <td>1.075648e+06</td>\n",
       "      <td>81.7913</td>\n",
       "      <td>2981.04</td>\n",
       "      <td>29</td>\n",
       "      <td>38.8119</td>\n",
       "    </tr>\n",
       "    <tr>\n",
       "      <th>3</th>\n",
       "      <td>15.851</td>\n",
       "      <td>8424.58</td>\n",
       "      <td>2368.25</td>\n",
       "      <td>0.28111</td>\n",
       "      <td>67.8325</td>\n",
       "      <td>1.210472e+06</td>\n",
       "      <td>109.4390</td>\n",
       "      <td>3248.22</td>\n",
       "      <td>70</td>\n",
       "      <td>39.0651</td>\n",
       "    </tr>\n",
       "    <tr>\n",
       "      <th>4</th>\n",
       "      <td>7.962</td>\n",
       "      <td>7460.84</td>\n",
       "      <td>1736.94</td>\n",
       "      <td>0.23280</td>\n",
       "      <td>52.4123</td>\n",
       "      <td>1.021020e+06</td>\n",
       "      <td>94.5234</td>\n",
       "      <td>2814.42</td>\n",
       "      <td>41</td>\n",
       "      <td>39.9147</td>\n",
       "    </tr>\n",
       "    <tr>\n",
       "      <th>...</th>\n",
       "      <td>...</td>\n",
       "      <td>...</td>\n",
       "      <td>...</td>\n",
       "      <td>...</td>\n",
       "      <td>...</td>\n",
       "      <td>...</td>\n",
       "      <td>...</td>\n",
       "      <td>...</td>\n",
       "      <td>...</td>\n",
       "      <td>...</td>\n",
       "    </tr>\n",
       "    <tr>\n",
       "      <th>45725</th>\n",
       "      <td>3.762</td>\n",
       "      <td>8037.12</td>\n",
       "      <td>2777.68</td>\n",
       "      <td>0.34560</td>\n",
       "      <td>64.3390</td>\n",
       "      <td>1.105797e+06</td>\n",
       "      <td>112.7460</td>\n",
       "      <td>3384.21</td>\n",
       "      <td>84</td>\n",
       "      <td>36.8036</td>\n",
       "    </tr>\n",
       "    <tr>\n",
       "      <th>45726</th>\n",
       "      <td>6.521</td>\n",
       "      <td>7978.76</td>\n",
       "      <td>2508.57</td>\n",
       "      <td>0.31440</td>\n",
       "      <td>75.8654</td>\n",
       "      <td>1.116725e+06</td>\n",
       "      <td>102.2770</td>\n",
       "      <td>3974.52</td>\n",
       "      <td>54</td>\n",
       "      <td>36.0470</td>\n",
       "    </tr>\n",
       "    <tr>\n",
       "      <th>45727</th>\n",
       "      <td>10.356</td>\n",
       "      <td>7726.65</td>\n",
       "      <td>2489.58</td>\n",
       "      <td>0.32220</td>\n",
       "      <td>70.9903</td>\n",
       "      <td>1.076560e+06</td>\n",
       "      <td>103.6780</td>\n",
       "      <td>3290.46</td>\n",
       "      <td>46</td>\n",
       "      <td>37.4718</td>\n",
       "    </tr>\n",
       "    <tr>\n",
       "      <th>45728</th>\n",
       "      <td>9.791</td>\n",
       "      <td>8878.93</td>\n",
       "      <td>3055.78</td>\n",
       "      <td>0.34416</td>\n",
       "      <td>94.0314</td>\n",
       "      <td>1.242266e+06</td>\n",
       "      <td>115.1950</td>\n",
       "      <td>3421.79</td>\n",
       "      <td>41</td>\n",
       "      <td>35.6045</td>\n",
       "    </tr>\n",
       "    <tr>\n",
       "      <th>45729</th>\n",
       "      <td>18.827</td>\n",
       "      <td>12732.40</td>\n",
       "      <td>4444.36</td>\n",
       "      <td>0.34905</td>\n",
       "      <td>157.6300</td>\n",
       "      <td>1.788897e+06</td>\n",
       "      <td>229.4590</td>\n",
       "      <td>4626.85</td>\n",
       "      <td>141</td>\n",
       "      <td>29.8118</td>\n",
       "    </tr>\n",
       "  </tbody>\n",
       "</table>\n",
       "<p>45730 rows × 10 columns</p>\n",
       "</div>"
      ],
      "text/plain": [
       "         RMSD        F1       F2       F3        F4            F5        F6  \\\n",
       "0      17.284  13558.30  4305.35  0.31754  162.1730  1.872791e+06  215.3590   \n",
       "1       6.021   6191.96  1623.16  0.26213   53.3894  8.034467e+05   87.2024   \n",
       "2       9.275   7725.98  1726.28  0.22343   67.2887  1.075648e+06   81.7913   \n",
       "3      15.851   8424.58  2368.25  0.28111   67.8325  1.210472e+06  109.4390   \n",
       "4       7.962   7460.84  1736.94  0.23280   52.4123  1.021020e+06   94.5234   \n",
       "...       ...       ...      ...      ...       ...           ...       ...   \n",
       "45725   3.762   8037.12  2777.68  0.34560   64.3390  1.105797e+06  112.7460   \n",
       "45726   6.521   7978.76  2508.57  0.31440   75.8654  1.116725e+06  102.2770   \n",
       "45727  10.356   7726.65  2489.58  0.32220   70.9903  1.076560e+06  103.6780   \n",
       "45728   9.791   8878.93  3055.78  0.34416   94.0314  1.242266e+06  115.1950   \n",
       "45729  18.827  12732.40  4444.36  0.34905  157.6300  1.788897e+06  229.4590   \n",
       "\n",
       "            F7   F8       F9  \n",
       "0      4287.87  102  27.0302  \n",
       "1      3328.91   39  38.5468  \n",
       "2      2981.04   29  38.8119  \n",
       "3      3248.22   70  39.0651  \n",
       "4      2814.42   41  39.9147  \n",
       "...        ...  ...      ...  \n",
       "45725  3384.21   84  36.8036  \n",
       "45726  3974.52   54  36.0470  \n",
       "45727  3290.46   46  37.4718  \n",
       "45728  3421.79   41  35.6045  \n",
       "45729  4626.85  141  29.8118  \n",
       "\n",
       "[45730 rows x 10 columns]"
      ]
     },
     "execution_count": 171,
     "metadata": {},
     "output_type": "execute_result"
    }
   ],
   "source": [
    "df2"
   ]
  },
  {
   "cell_type": "code",
   "execution_count": 185,
   "id": "25417214",
   "metadata": {},
   "outputs": [],
   "source": [
    "def calc_bias_variance_RF(depth):\n",
    "    k = 10\n",
    "    preds = []\n",
    "    pred_df = pd.DataFrame()\n",
    "    for i in np.arange(k):\n",
    "        # draw a training set from train portion\n",
    "        _, training = train_test_split(trn, test_size=0.3)\n",
    "        X_training = training.drop(['F9'], axis=1) \n",
    "        y_training = training['F9']\n",
    "        # fit a decision tree model using training set\n",
    "        decision_tree = RandomForestRegressor(criterion='squared_error', max_depth=depth,random_state=0).fit(X_training, y_training)\n",
    "        y_hat = decision_tree.predict(X_test)\n",
    "        preds.append(y_hat)\n",
    "        pred_df = pd.concat([pred_df, pd.DataFrame(preds[i])], axis=1)\n",
    "    \n",
    "    # calculate variance as the variance among the value for the same sample from various models bias\n",
    "    var = np.array([])\n",
    "    for i in np.arange(pred_df.shape[0]):\n",
    "        var = np.append(var, np.var(pred_df.iloc[i][:]))\n",
    "\n",
    "    # calculate bias, as the gap between truth and avg of predicted values\n",
    "    # each row has k values predicted for the sample. get the mean of these columns. \n",
    "    # mean of squares of gap between that and true y.        \n",
    "    pred_df['rowmean'] = pred_df.mean(axis=1) # row means i.e. E(yhat across models)\n",
    "    gap = np.array(y_test) - np.array(pred_df.rowmean)\n",
    "    \n",
    "    return np.mean(var),np.mean(gap**2)\n"
   ]
  },
  {
   "cell_type": "code",
   "execution_count": 186,
   "id": "41c0837d",
   "metadata": {},
   "outputs": [
    {
     "data": {
      "text/plain": [
       "(0.09752122478977145, 3.659388677047535)"
      ]
     },
     "execution_count": 186,
     "metadata": {},
     "output_type": "execute_result"
    }
   ],
   "source": [
    "calc_bias_variance_RF(5)"
   ]
  },
  {
   "cell_type": "code",
   "execution_count": 187,
   "id": "b78898dc",
   "metadata": {},
   "outputs": [],
   "source": [
    "var_lst = []\n",
    "bias_lst = []\n",
    "depths = np.arange(start=2,stop=10,step=1)\n",
    "for i in depths:\n",
    "    depth = i+1\n",
    "    var_lst.append(calc_bias_variance_RF(depth)[0])\n",
    "    bias_lst.append(calc_bias_variance_RF(depth)[1])"
   ]
  },
  {
   "cell_type": "code",
   "execution_count": 188,
   "id": "c942eef6",
   "metadata": {},
   "outputs": [
    {
     "data": {
      "image/png": "[encoded data removed]",
      "text/plain": [
       "<Figure size 640x480 with 1 Axes>"
      ]
     },
     "metadata": {},
     "output_type": "display_data"
    },
    {
     "data": {
      "image/png": "[encoded data removed]",
      "text/plain": [
       "<Figure size 640x480 with 1 Axes>"
      ]
     },
     "metadata": {},
     "output_type": "display_data"
    }
   ],
   "source": [
    "plt.title(\"VARIANCE RF\")\n",
    "plt.plot(var_lst)\n",
    "plt.show()\n",
    "plt.title(\"BIAS RF\")\n",
    "plt.plot(bias_lst)\n",
    "plt.show()"
   ]
  },
  {
   "cell_type": "code",
   "execution_count": null,
   "id": "f430a526",
   "metadata": {},
   "outputs": [],
   "source": []
  }
 ],
 "metadata": {
  "kernelspec": {
   "display_name": "Python 3 (ipykernel)",
   "language": "python",
   "name": "python3"
  },
  "language_info": {
   "codemirror_mode": {
    "name": "ipython",
    "version": 3
   },
   "file_extension": ".py",
   "mimetype": "text/x-python",
   "name": "python",
   "nbconvert_exporter": "python",
   "pygments_lexer": "ipython3",
   "version": "3.9.13"
  }
 },
 "nbformat": 4,
 "nbformat_minor": 5
}
